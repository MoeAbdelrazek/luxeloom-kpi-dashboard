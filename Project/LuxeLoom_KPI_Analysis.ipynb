{
 "cells": [
  {
   "cell_type": "markdown",
   "id": "c5b60534",
   "metadata": {},
   "source": [
    "\n",
    "# LuxeLoom — E‑commerce KPI Analysis (Agency Level)\n",
    "\n",
    "**Scope:** End-to-end KPI computation for an e-commerce brand, using realistic synthetic data (Shopify-like orders, GA-like sessions, and paid ads).  \n",
    "**Outputs:** Clean daily KPI table, channel rollups, and executive charts.\n",
    "\n",
    "**Stack:** Python (pandas, numpy, matplotlib). No seaborn used. One chart per figure; default colors.\n"
   ]
  },
  {
   "cell_type": "code",
   "execution_count": null,
   "id": "f7ec101b",
   "metadata": {},
   "outputs": [],
   "source": [
    "\n",
    "import os\n",
    "import numpy as np\n",
    "import pandas as pd\n",
    "import matplotlib.pyplot as plt\n",
    "\n",
    "BASE = '/mnt/data'\n",
    "DATASETS = os.path.join(BASE, 'datasets')\n",
    "ANALYSIS = os.path.join(BASE, 'analysis')\n",
    "CHARTS = os.path.join(ANALYSIS, 'charts')\n",
    "os.makedirs(ANALYSIS, exist_ok=True)\n",
    "os.makedirs(CHARTS, exist_ok=True)\n",
    "\n",
    "print('Datasets folder:', DATASETS)\n",
    "print('Analysis folder:', ANALYSIS)\n"
   ]
  },
  {
   "cell_type": "markdown",
   "id": "52a58113",
   "metadata": {},
   "source": [
    "## Load datasets"
   ]
  },
  {
   "cell_type": "code",
   "execution_count": null,
   "id": "fc7bff7c",
   "metadata": {},
   "outputs": [],
   "source": [
    "\n",
    "orders = pd.read_csv(os.path.join(DATASETS, 'orders.csv'), parse_dates=['order_date'])\n",
    "ads = pd.read_csv(os.path.join(DATASETS, 'ads.csv'), parse_dates=['date'])\n",
    "sessions = pd.read_csv(os.path.join(DATASETS, 'sessions.csv'), parse_dates=['date'])\n",
    "customers = pd.read_csv(os.path.join(DATASETS, 'customers.csv'), parse_dates=['signup_date','first_order_date','last_order_date'])\n",
    "products = pd.read_csv(os.path.join(DATASETS, 'products.csv'))\n",
    "\n",
    "orders.head(), ads.head(), sessions.head()\n"
   ]
  },
  {
   "cell_type": "markdown",
   "id": "a6c32436",
   "metadata": {},
   "source": [
    "## Helper functions"
   ]
  },
  {
   "cell_type": "code",
   "execution_count": null,
   "id": "76afa274",
   "metadata": {},
   "outputs": [],
   "source": [
    "\n",
    "def compute_daily_kpis(orders_df, ads_df, sessions_df):\n",
    "    # Sales layer\n",
    "    daily = orders_df.groupby('order_date').agg(\n",
    "        orders=('order_id','count'),\n",
    "        revenue=('order_value','sum'),\n",
    "        cogs=('cogs','sum')\n",
    "    ).reset_index()\n",
    "    daily['gross_margin'] = daily['revenue'] - daily['cogs']\n",
    "\n",
    "    # Ads layer\n",
    "    ads_daily = ads_df.groupby('date').agg(\n",
    "        impressions=('impressions','sum'),\n",
    "        clicks=('clicks','sum'),\n",
    "        spend=('spend','sum'),\n",
    "        conversions=('conversions','sum'),\n",
    "        rev_attr=('revenue_attributed','sum')\n",
    "    ).reset_index().rename(columns={'date':'order_date'})\n",
    "\n",
    "    # Sessions layer\n",
    "    sess_daily = sessions_df.groupby('date').agg(\n",
    "        sessions=('sessions','sum'),\n",
    "        bounces=('bounces','sum')\n",
    "    ).reset_index().rename(columns={'date':'order_date'})\n",
    "    sess_daily['bounce_rate'] = np.where(sess_daily['sessions']>0, sess_daily['bounces']/sess_daily['sessions'], 0.0)\n",
    "\n",
    "    # Merge\n",
    "    kpis = daily.merge(ads_daily, on='order_date', how='left').merge(sess_daily, on='order_date', how='left')\n",
    "    for col in ['impressions','clicks','spend','conversions','rev_attr','sessions','bounces','bounce_rate']:\n",
    "        kpis[col] = kpis[col].fillna(0)\n",
    "\n",
    "    # Final KPIs\n",
    "    kpis['aov']  = np.where(kpis['orders']>0, kpis['revenue']/kpis['orders'], 0.0)\n",
    "    kpis['cvr']  = np.where(kpis['sessions']>0, kpis['orders']/kpis['sessions'], 0.0)\n",
    "    kpis['roas'] = np.where(kpis['spend']>0, kpis['revenue']/kpis['spend'], np.nan)\n",
    "    kpis['cac']  = np.where(kpis['orders']>0, kpis['spend']/kpis['orders'], np.nan)\n",
    "    return kpis\n",
    "\n",
    "def compute_channel_summary(orders_df, ads_df):\n",
    "    ch_rev = orders_df.groupby('channel').agg(\n",
    "        revenue=('order_value','sum'),\n",
    "        orders=('order_id','count')\n",
    "    ).reset_index()\n",
    "    ch_ads = ads_df.groupby('channel').agg(\n",
    "        spend=('spend','sum'),\n",
    "        clicks=('clicks','sum'),\n",
    "        impressions=('impressions','sum'),\n",
    "        conversions=('conversions','sum')\n",
    "    ).reset_index()\n",
    "    out = ch_rev.merge(ch_ads, on='channel', how='outer').fillna(0)\n",
    "    out['aov']  = np.where(out['orders']>0, out['revenue']/out['orders'], 0.0)\n",
    "    out['roas'] = np.where(out['spend']>0, out['revenue']/out['spend'], np.nan)\n",
    "    out['ctr']  = np.where(out['impressions']>0, out['clicks']/out['impressions'], 0.0)\n",
    "    return out\n"
   ]
  },
  {
   "cell_type": "markdown",
   "id": "024e6f5c",
   "metadata": {},
   "source": [
    "## Compute KPI layers"
   ]
  },
  {
   "cell_type": "code",
   "execution_count": null,
   "id": "32c6e452",
   "metadata": {},
   "outputs": [],
   "source": [
    "\n",
    "daily_kpis = compute_daily_kpis(orders, ads, sessions)\n",
    "channel_kpis = compute_channel_summary(orders, ads)\n",
    "\n",
    "daily_kpis_path = os.path.join(ANALYSIS, 'daily_kpis.csv')\n",
    "channel_kpis_path = os.path.join(ANALYSIS, 'kpi_summary_by_channel.csv')\n",
    "daily_kpis.to_csv(daily_kpis_path, index=False)\n",
    "channel_kpis.to_csv(channel_kpis_path, index=False)\n",
    "\n",
    "daily_kpis.tail(3), channel_kpis\n"
   ]
  },
  {
   "cell_type": "markdown",
   "id": "621bfe7d",
   "metadata": {},
   "source": [
    "## Executive charts (matplotlib, default colors)"
   ]
  },
  {
   "cell_type": "code",
   "execution_count": null,
   "id": "1a7a7a21",
   "metadata": {},
   "outputs": [],
   "source": [
    "\n",
    "plt.figure(figsize=(10,5))\n",
    "plt.plot(daily_kpis['order_date'], daily_kpis['revenue'])\n",
    "plt.title('Daily Revenue Trend')\n",
    "plt.xlabel('Date'); plt.ylabel('Revenue')\n",
    "plt.tight_layout()\n",
    "rev_path = os.path.join(CHARTS, 'revenue_trend.png')\n",
    "plt.savefig(rev_path); plt.close()\n",
    "rev_path\n"
   ]
  },
  {
   "cell_type": "code",
   "execution_count": null,
   "id": "1029838b",
   "metadata": {},
   "outputs": [],
   "source": [
    "\n",
    "plt.figure(figsize=(10,5))\n",
    "plt.plot(daily_kpis['order_date'], daily_kpis['roas'])\n",
    "plt.title('Daily ROAS Trend')\n",
    "plt.xlabel('Date'); plt.ylabel('ROAS')\n",
    "plt.tight_layout()\n",
    "roas_path = os.path.join(CHARTS, 'roas_trend.png')\n",
    "plt.savefig(roas_path); plt.close()\n",
    "roas_path\n"
   ]
  },
  {
   "cell_type": "code",
   "execution_count": null,
   "id": "1c719daa",
   "metadata": {},
   "outputs": [],
   "source": [
    "\n",
    "plt.figure(figsize=(10,5))\n",
    "plt.plot(daily_kpis['order_date'], daily_kpis['cac'])\n",
    "plt.title('Daily CAC Trend')\n",
    "plt.xlabel('Date'); plt.ylabel('CAC')\n",
    "plt.tight_layout()\n",
    "cac_path = os.path.join(CHARTS, 'cac_trend.png')\n",
    "plt.savefig(cac_path); plt.close()\n",
    "cac_path\n"
   ]
  },
  {
   "cell_type": "code",
   "execution_count": null,
   "id": "f5446222",
   "metadata": {},
   "outputs": [],
   "source": [
    "\n",
    "valid = channel_kpis.dropna(subset=['roas'])\n",
    "plt.figure(figsize=(8,5))\n",
    "plt.bar(valid['channel'], valid['roas'])\n",
    "plt.title('ROAS by Channel (6 months)')\n",
    "plt.xlabel('Channel'); plt.ylabel('ROAS')\n",
    "plt.tight_layout()\n",
    "bar_path = os.path.join(CHARTS, 'channel_roas_bar.png')\n",
    "plt.savefig(bar_path); plt.close()\n",
    "bar_path\n"
   ]
  },
  {
   "cell_type": "markdown",
   "id": "ec539cc9",
   "metadata": {},
   "source": [
    "\n",
    "## Insights scaffolding (fill with numbers from the tables)\n",
    "- **Top channel by ROAS:** Identify highest `roas` in `channel_kpis`.\n",
    "- **Efficiency lever:** Compare CAC trend; note weekends vs weekdays.\n",
    "- **Email efficiency:** Low spend, steady conversions — validates lifecycle campaigns.\n",
    "- **Device behavior:** (Optional) Join sessions by device for CVR differences.\n",
    "- **Budget move:** Shift budget from lowest quartile ROAS campaigns to top quartile.\n"
   ]
  }
 ],
 "metadata": {},
 "nbformat": 4,
 "nbformat_minor": 5
}
